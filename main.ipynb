{
 "cells": [
  {
   "cell_type": "code",
   "execution_count": 11,
   "metadata": {},
   "outputs": [
    {
     "data": {
      "text/html": [
       "<div>\n",
       "<style scoped>\n",
       "    .dataframe tbody tr th:only-of-type {\n",
       "        vertical-align: middle;\n",
       "    }\n",
       "\n",
       "    .dataframe tbody tr th {\n",
       "        vertical-align: top;\n",
       "    }\n",
       "\n",
       "    .dataframe thead th {\n",
       "        text-align: right;\n",
       "    }\n",
       "</style>\n",
       "<table border=\"1\" class=\"dataframe\">\n",
       "  <thead>\n",
       "    <tr style=\"text-align: right;\">\n",
       "      <th></th>\n",
       "      <th>Ticker</th>\n",
       "      <th>Sector</th>\n",
       "      <th>Industry</th>\n",
       "      <th>Market Cap</th>\n",
       "      <th>PE Ratio</th>\n",
       "      <th>PB Ratio</th>\n",
       "      <th>EPS</th>\n",
       "      <th>Dividend Yield</th>\n",
       "      <th>Revenue (TTM)</th>\n",
       "      <th>Net Income (TTM)</th>\n",
       "      <th>Total Assets</th>\n",
       "      <th>Total Liabilities</th>\n",
       "      <th>Free Cash Flow (TTM)</th>\n",
       "    </tr>\n",
       "  </thead>\n",
       "  <tbody>\n",
       "    <tr>\n",
       "      <th>0</th>\n",
       "      <td>MSFT</td>\n",
       "      <td>Technology</td>\n",
       "      <td>Software - Infrastructure</td>\n",
       "      <td>3324878520320</td>\n",
       "      <td>36.89769</td>\n",
       "      <td>11.557646</td>\n",
       "      <td>12.12</td>\n",
       "      <td>0.0074</td>\n",
       "      <td>8.233950e+11</td>\n",
       "      <td>2.945060e+11</td>\n",
       "      <td>5.121630e+11</td>\n",
       "      <td>N/A</td>\n",
       "      <td>N/A</td>\n",
       "    </tr>\n",
       "  </tbody>\n",
       "</table>\n",
       "</div>"
      ],
      "text/plain": [
       "  Ticker      Sector                   Industry     Market Cap  PE Ratio  \\\n",
       "0   MSFT  Technology  Software - Infrastructure  3324878520320  36.89769   \n",
       "\n",
       "    PB Ratio    EPS  Dividend Yield  Revenue (TTM)  Net Income (TTM)  \\\n",
       "0  11.557646  12.12          0.0074   8.233950e+11      2.945060e+11   \n",
       "\n",
       "   Total Assets Total Liabilities Free Cash Flow (TTM)  \n",
       "0  5.121630e+11               N/A                  N/A  "
      ]
     },
     "execution_count": 11,
     "metadata": {},
     "output_type": "execute_result"
    }
   ],
   "source": [
    "from scripts.fundamental_analysis import FundamentalAnalysis\n",
    "\n",
    "tickers = [\"MSFT\"]\n",
    "fa = FundamentalAnalysis(tickers)\n",
    "df = fa.get_fundamental_data()\n",
    "df\n"
   ]
  }
 ],
 "metadata": {
  "kernelspec": {
   "display_name": "Python 3",
   "language": "python",
   "name": "python3"
  },
  "language_info": {
   "codemirror_mode": {
    "name": "ipython",
    "version": 3
   },
   "file_extension": ".py",
   "mimetype": "text/x-python",
   "name": "python",
   "nbconvert_exporter": "python",
   "pygments_lexer": "ipython3",
   "version": "3.11.8"
  }
 },
 "nbformat": 4,
 "nbformat_minor": 2
}
